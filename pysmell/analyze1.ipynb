{
 "cells": [
  {
   "cell_type": "code",
   "execution_count": 1,
   "id": "cb494f89-b12b-439d-876a-923d08c774f7",
   "metadata": {},
   "outputs": [
    {
     "name": "stdout",
     "output_type": "stream",
     "text": [
      "\\begin{tabular}{llllllllllll}\n",
      "\\toprule\n",
      " & File & CCC & LBC & LC & LLF & LM & LMC & LML & LSC & LTCE & MNC \\\\\n",
      "Metric & Predictor &  &  &  &  &  &  &  &  &  &  \\\\\n",
      "\\midrule\n",
      "\\multirow[t]{3}{*}{F1-Score} & experience-based & 0.64 & 0.98 & 0.88 & 0.84 & 0.96 & 0.92 & 0.98 & 0.86 & 0.76 & 0.95 \\\\\n",
      " & statistics-based & 0.85 & 0.86 & 0.85 & 0.90 & 0.86 & 0.97 & 0.88 & 0.97 & 0.85 & 0.86 \\\\\n",
      " & tuning machine & 0.92 & 0.98 & 0.93 & 0.97 & 0.96 & 0.97 & 0.98 & 0.97 & 0.90 & 0.95 \\\\\n",
      "\\cline{1-12}\n",
      "\\multirow[t]{3}{*}{Precision} & experience-based & 0.47 & 0.97 & 0.78 & 0.72 & 0.93 & 0.97 & 1.00 & 0.75 & 0.62 & 0.94 \\\\\n",
      " & statistics-based & 0.92 & 0.76 & 0.92 & 0.84 & 0.76 & 0.95 & 0.78 & 1.00 & 0.82 & 0.92 \\\\\n",
      " & tuning machine & 0.87 & 0.97 & 0.88 & 0.93 & 0.93 & 0.95 & 1.00 & 1.00 & 0.81 & 0.94 \\\\\n",
      "\\cline{1-12}\n",
      "\\multirow[t]{3}{*}{Recall} & experience-based & 1.00 & 1.00 & 1.00 & 1.00 & 1.00 & 0.87 & 0.97 & 1.00 & 1.00 & 0.97 \\\\\n",
      " & statistics-based & 0.79 & 1.00 & 0.79 & 0.96 & 1.00 & 1.00 & 1.00 & 0.94 & 0.88 & 0.80 \\\\\n",
      " & tuning machine & 0.96 & 1.00 & 1.00 & 1.00 & 1.00 & 1.00 & 0.97 & 0.94 & 1.00 & 0.97 \\\\\n",
      "\\cline{1-12}\n",
      "\\bottomrule\n",
      "\\end{tabular}\n",
      "\n"
     ]
    }
   ],
   "source": [
    "import pandas as pd\n",
    "from sklearn.metrics import precision_score, recall_score, f1_score\n",
    "import glob\n",
    "\n",
    "# Define the folder and file pattern\n",
    "folder_path = 'validation_repository/'  # Replace with your folder path\n",
    "file_pattern = '*.csv'  # Adjust if needed for specific file types\n",
    "\n",
    "# Prediction columns and ground truth column\n",
    "predictions = ['experience-based', 'statistics-based', 'tuning machine']\n",
    "ground_truth = 'manual inspection'\n",
    "\n",
    "# Initialize a dictionary to store metrics for all files\n",
    "results = []\n",
    "\n",
    "# Loop through each file in the folder\n",
    "for file in glob.glob(folder_path + file_pattern):\n",
    "    # Extract file name (without extension) for column naming\n",
    "    file_name = file.split('/')[-1].replace('.csv', '')\n",
    "\n",
    "    # Load the data\n",
    "    data = pd.read_csv(file)\n",
    "\n",
    "    # Ensure binary values in the relevant columns\n",
    "    for column in predictions + [ground_truth]:\n",
    "        if not data[column].isin([0, 1]).all():\n",
    "            raise ValueError(f\"Column {column} in {file} contains non-binary values. Please preprocess the data.\")\n",
    "\n",
    "    # Calculate metrics for each prediction method\n",
    "    for pred in predictions:\n",
    "        precision = precision_score(data[ground_truth], data[pred])\n",
    "        recall = recall_score(data[ground_truth], data[pred])\n",
    "        f1 = f1_score(data[ground_truth], data[pred])\n",
    "        \n",
    "        # Add metrics to results as a dictionary\n",
    "        results.append({\n",
    "            'File': file_name,\n",
    "            'Predictor': pred,\n",
    "            'Precision': f\"{precision:.2f}\",\n",
    "            'Recall': f\"{recall:.2f}\",\n",
    "            'F1-Score': f\"{f1:.2f}\"\n",
    "        })\n",
    "\n",
    "# Convert results to a DataFrame\n",
    "results_df = pd.DataFrame(results)\n",
    "\n",
    "# Pivot the DataFrame to prepare for LaTeX table\n",
    "latex_table = results_df.melt(id_vars=['File', 'Predictor'], \n",
    "                              var_name='Metric', \n",
    "                              value_name='Value').pivot(index=['Metric', 'Predictor'], \n",
    "                                                        columns='File', \n",
    "                                                        values='Value')\n",
    "\n",
    "# Convert the pivoted table to LaTeX\n",
    "latex_code = latex_table.to_latex(index=True, multirow=True)\n",
    "print(latex_code)\n"
   ]
  },
  {
   "cell_type": "code",
   "execution_count": null,
   "id": "005bb12c-c3e9-420e-825e-0f608589e55d",
   "metadata": {},
   "outputs": [],
   "source": []
  },
  {
   "cell_type": "code",
   "execution_count": null,
   "id": "3063ae9c-5da4-4162-8cca-079902e8f2e0",
   "metadata": {},
   "outputs": [],
   "source": []
  }
 ],
 "metadata": {
  "kernelspec": {
   "display_name": "Python 3 (ipykernel)",
   "language": "python",
   "name": "python3"
  },
  "language_info": {
   "codemirror_mode": {
    "name": "ipython",
    "version": 3
   },
   "file_extension": ".py",
   "mimetype": "text/x-python",
   "name": "python",
   "nbconvert_exporter": "python",
   "pygments_lexer": "ipython3",
   "version": "3.10.15"
  }
 },
 "nbformat": 4,
 "nbformat_minor": 5
}
