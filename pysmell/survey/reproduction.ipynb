{
 "cells": [
  {
   "cell_type": "code",
   "execution_count": 1,
   "id": "6a1552e4-6b89-4c9c-8e06-14ae7c2c24ac",
   "metadata": {},
   "outputs": [],
   "source": [
    "import pandas as pd"
   ]
  },
  {
   "cell_type": "code",
   "execution_count": 2,
   "id": "f7dcdedd-2953-497b-861f-33b056fce8ad",
   "metadata": {},
   "outputs": [],
   "source": [
    "df = pd.read_excel('survey feedback.xlsx')"
   ]
  },
  {
   "cell_type": "code",
   "execution_count": 6,
   "id": "ba4428a1-fbcc-4ae6-a4a1-ffa49ee01223",
   "metadata": {},
   "outputs": [
    {
     "data": {
      "text/plain": [
       "LPL\n",
       "both of them                                                             46\n",
       "maybe more faults                                                        24\n",
       "maybe more changes                                                       23\n",
       "it is not a smell                                                        16\n",
       "Do you think Long Parameter List may lead to more changes or faults?      1\n",
       "Name: count, dtype: int64"
      ]
     },
     "execution_count": 6,
     "metadata": {},
     "output_type": "execute_result"
    }
   ],
   "source": [
    "df['LPL'].value_counts()"
   ]
  },
  {
   "cell_type": "code",
   "execution_count": 8,
   "id": "8b14a3bd-e5c5-4ef8-acbd-c99ee5db5446",
   "metadata": {},
   "outputs": [
    {
     "data": {
      "text/plain": [
       "0                                                    NaN\n",
       "1      Do you think Long Parameter List may lead to m...\n",
       "2                                     maybe more changes\n",
       "3                                           both of them\n",
       "4                                     maybe more changes\n",
       "                             ...                        \n",
       "107                                   maybe more changes\n",
       "108                                         both of them\n",
       "109                                         both of them\n",
       "110                                         both of them\n",
       "111                                   maybe more changes\n",
       "Name: LPL, Length: 112, dtype: object"
      ]
     },
     "execution_count": 8,
     "metadata": {},
     "output_type": "execute_result"
    }
   ],
   "source": [
    "df['LPL']"
   ]
  },
  {
   "cell_type": "code",
   "execution_count": null,
   "id": "d49e036c-c3df-439a-be50-f37b4ba9f0f7",
   "metadata": {},
   "outputs": [],
   "source": []
  }
 ],
 "metadata": {
  "kernelspec": {
   "display_name": "Python 3 (ipykernel)",
   "language": "python",
   "name": "python3"
  },
  "language_info": {
   "codemirror_mode": {
    "name": "ipython",
    "version": 3
   },
   "file_extension": ".py",
   "mimetype": "text/x-python",
   "name": "python",
   "nbconvert_exporter": "python",
   "pygments_lexer": "ipython3",
   "version": "3.10.15"
  }
 },
 "nbformat": 4,
 "nbformat_minor": 5
}
